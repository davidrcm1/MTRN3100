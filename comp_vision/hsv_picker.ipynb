{
 "cells": [
  {
   "cell_type": "code",
   "execution_count": 1,
   "metadata": {},
   "outputs": [],
   "source": [
    "#import opencv and numpy\n",
    "import cv2  \n",
    "import numpy as np\n",
    "\n",
    "#trackbar callback function to update HSV value\n",
    "def callback(x):\n",
    "    global H_low, H_high, S_low, S_high, V_low, V_high\n",
    "    #assign trackbar position value to H, S, V High and low variables\n",
    "    H_low = cv2.getTrackbarPos('low H', 'controls')\n",
    "    H_high = cv2.getTrackbarPos('high H', 'controls')\n",
    "    S_low = cv2.getTrackbarPos('low S', 'controls')\n",
    "    S_high = cv2.getTrackbarPos('high S', 'controls')\n",
    "    V_low = cv2.getTrackbarPos('low V', 'controls')\n",
    "    V_high = cv2.getTrackbarPos('high V', 'controls')\n",
    "\n",
    "#create a separate window named 'controls' for trackbar\n",
    "cv2.namedWindow('controls', 2)\n",
    "cv2.resizeWindow(\"controls\", 550, 10)\n",
    "\n",
    "#global variables\n",
    "H_low = 0\n",
    "H_high = 179\n",
    "S_low = 0\n",
    "S_high = 255\n",
    "V_low = 0\n",
    "V_high = 255\n",
    "\n",
    "#create trackbars for high, low H, S, V \n",
    "cv2.createTrackbar('low H', 'controls', 0, 179, callback)\n",
    "cv2.createTrackbar('high H', 'controls', 179, 179, callback)\n",
    "cv2.createTrackbar('low S', 'controls', 0, 255, callback)\n",
    "cv2.createTrackbar('high S', 'controls', 255, 255, callback)\n",
    "cv2.createTrackbar('low V', 'controls', 0, 255, callback)\n",
    "cv2.createTrackbar('high V', 'controls', 255, 255, callback)\n",
    "\n",
    "while(1):\n",
    "    #read source image\n",
    "    img = cv2.imread(\"squared_image.JPG\")\n",
    "    \n",
    "    #scale down the image by a factor of 4\n",
    "    width = img.shape[1] // 4\n",
    "    height = img.shape[0] // 4\n",
    "    img = cv2.resize(img, (width, height), interpolation=cv2.INTER_AREA)\n",
    "    \n",
    "    #convert source image to HSV color mode\n",
    "    hsv = cv2.cvtColor(img, cv2.COLOR_BGR2HSV)\n",
    "    \n",
    "    #define the range for HSV values\n",
    "    hsv_low = np.array([H_low, S_low, V_low], np.uint8)\n",
    "    hsv_high = np.array([H_high, S_high, V_high], np.uint8)\n",
    "    \n",
    "    #create mask for the specified HSV range\n",
    "    mask = cv2.inRange(hsv, hsv_low, hsv_high)\n",
    "    #masking HSV value selected color becomes black\n",
    "    res = cv2.bitwise_and(img, img, mask=mask)\n",
    "    \n",
    "    #show images\n",
    "    cv2.imshow('mask', mask)\n",
    "    cv2.imshow('res', res)\n",
    "    \n",
    "    #wait for the user to press escape and break the while loop \n",
    "    k = cv2.waitKey(1) & 0xFF\n",
    "    if k == 27:\n",
    "        break\n",
    "        \n",
    "#destroy all windows\n",
    "cv2.destroyAllWindows()\n"
   ]
  },
  {
   "cell_type": "code",
   "execution_count": null,
   "metadata": {},
   "outputs": [],
   "source": []
  },
  {
   "cell_type": "code",
   "execution_count": null,
   "metadata": {},
   "outputs": [],
   "source": []
  },
  {
   "cell_type": "code",
   "execution_count": null,
   "metadata": {},
   "outputs": [],
   "source": []
  },
  {
   "cell_type": "code",
   "execution_count": null,
   "metadata": {},
   "outputs": [],
   "source": []
  }
 ],
 "metadata": {
  "kernelspec": {
   "display_name": "Python 3",
   "language": "python",
   "name": "python3"
  },
  "language_info": {
   "codemirror_mode": {
    "name": "ipython",
    "version": 3
   },
   "file_extension": ".py",
   "mimetype": "text/x-python",
   "name": "python",
   "nbconvert_exporter": "python",
   "pygments_lexer": "ipython3",
   "version": "3.7.10"
  }
 },
 "nbformat": 4,
 "nbformat_minor": 2
}
